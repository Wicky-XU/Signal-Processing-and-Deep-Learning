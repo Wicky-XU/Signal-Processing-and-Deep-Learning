{
  "nbformat": 4,
  "nbformat_minor": 0,
  "metadata": {
    "colab": {
      "provenance": [],
      "toc_visible": true,
      "gpuType": "T4"
    },
    "kernelspec": {
      "name": "python3",
      "display_name": "Python 3"
    },
    "language_info": {
      "name": "python"
    },
    "accelerator": "GPU"
  },
  "cells": [
    {
      "cell_type": "markdown",
      "source": [
        "# Neural network basics in Numpy"
      ],
      "metadata": {
        "id": "4LcsE0LWq5Lc"
      }
    },
    {
      "cell_type": "markdown",
      "source": [
        "## Regression problem\n",
        "\n"
      ],
      "metadata": {
        "id": "z594pR32A2iC"
      }
    },
    {
      "cell_type": "markdown",
      "source": [
        "Here we use a simple problem to demonstrate regression problem. The problem is to use population of the city to predict restaurant profits. We can load the data and visualize the shape."
      ],
      "metadata": {
        "id": "cN0sJvaFCmU3"
      }
    },
    {
      "cell_type": "code",
      "source": [
        "import numpy as np\n",
        "import matplotlib.pyplot as plt\n",
        "import copy\n",
        "import math\n",
        "\n",
        "data = np.loadtxt(\"ex1data1.txt\", delimiter=',')\n",
        "x = data[:,0]\n",
        "y = data[:,1]\n",
        "\n",
        "print(x.shape, y.shape)\n",
        "print(x[:100], y[:100])\n",
        "\n",
        "plt.scatter(x, y, marker='x', c='r')\n",
        "# Set the title\n",
        "plt.title(\"Profits vs. Population per city\")\n",
        "# Set the y-axis label\n",
        "plt.ylabel('Profit in $10,000')\n",
        "# Set the x-axis label\n",
        "plt.xlabel('Population of City in 10,000s')\n",
        "plt.show()\n"
      ],
      "metadata": {
        "colab": {
          "base_uri": "https://localhost:8080/",
          "height": 356
        },
        "id": "48PqbVWdC1Fe",
        "outputId": "03dad9e0-dec0-4df8-d0d9-7947399fabfa"
      },
      "execution_count": null,
      "outputs": [
        {
          "output_type": "error",
          "ename": "FileNotFoundError",
          "evalue": "ex1data1.txt not found.",
          "traceback": [
            "\u001b[0;31m---------------------------------------------------------------------------\u001b[0m",
            "\u001b[0;31mFileNotFoundError\u001b[0m                         Traceback (most recent call last)",
            "\u001b[0;32m<ipython-input-1-9af89415140f>\u001b[0m in \u001b[0;36m<cell line: 6>\u001b[0;34m()\u001b[0m\n\u001b[1;32m      4\u001b[0m \u001b[0;32mimport\u001b[0m \u001b[0mmath\u001b[0m\u001b[0;34m\u001b[0m\u001b[0;34m\u001b[0m\u001b[0m\n\u001b[1;32m      5\u001b[0m \u001b[0;34m\u001b[0m\u001b[0m\n\u001b[0;32m----> 6\u001b[0;31m \u001b[0mdata\u001b[0m \u001b[0;34m=\u001b[0m \u001b[0mnp\u001b[0m\u001b[0;34m.\u001b[0m\u001b[0mloadtxt\u001b[0m\u001b[0;34m(\u001b[0m\u001b[0;34m\"ex1data1.txt\"\u001b[0m\u001b[0;34m,\u001b[0m \u001b[0mdelimiter\u001b[0m\u001b[0;34m=\u001b[0m\u001b[0;34m','\u001b[0m\u001b[0;34m)\u001b[0m\u001b[0;34m\u001b[0m\u001b[0;34m\u001b[0m\u001b[0m\n\u001b[0m\u001b[1;32m      7\u001b[0m \u001b[0mx\u001b[0m \u001b[0;34m=\u001b[0m \u001b[0mdata\u001b[0m\u001b[0;34m[\u001b[0m\u001b[0;34m:\u001b[0m\u001b[0;34m,\u001b[0m\u001b[0;36m0\u001b[0m\u001b[0;34m]\u001b[0m\u001b[0;34m\u001b[0m\u001b[0;34m\u001b[0m\u001b[0m\n\u001b[1;32m      8\u001b[0m \u001b[0my\u001b[0m \u001b[0;34m=\u001b[0m \u001b[0mdata\u001b[0m\u001b[0;34m[\u001b[0m\u001b[0;34m:\u001b[0m\u001b[0;34m,\u001b[0m\u001b[0;36m1\u001b[0m\u001b[0;34m]\u001b[0m\u001b[0;34m\u001b[0m\u001b[0;34m\u001b[0m\u001b[0m\n",
            "\u001b[0;32m/usr/local/lib/python3.10/dist-packages/numpy/lib/npyio.py\u001b[0m in \u001b[0;36mloadtxt\u001b[0;34m(fname, dtype, comments, delimiter, converters, skiprows, usecols, unpack, ndmin, encoding, max_rows, quotechar, like)\u001b[0m\n\u001b[1;32m   1371\u001b[0m         \u001b[0mdelimiter\u001b[0m \u001b[0;34m=\u001b[0m \u001b[0mdelimiter\u001b[0m\u001b[0;34m.\u001b[0m\u001b[0mdecode\u001b[0m\u001b[0;34m(\u001b[0m\u001b[0;34m'latin1'\u001b[0m\u001b[0;34m)\u001b[0m\u001b[0;34m\u001b[0m\u001b[0;34m\u001b[0m\u001b[0m\n\u001b[1;32m   1372\u001b[0m \u001b[0;34m\u001b[0m\u001b[0m\n\u001b[0;32m-> 1373\u001b[0;31m     arr = _read(fname, dtype=dtype, comment=comment, delimiter=delimiter,\n\u001b[0m\u001b[1;32m   1374\u001b[0m                 \u001b[0mconverters\u001b[0m\u001b[0;34m=\u001b[0m\u001b[0mconverters\u001b[0m\u001b[0;34m,\u001b[0m \u001b[0mskiplines\u001b[0m\u001b[0;34m=\u001b[0m\u001b[0mskiprows\u001b[0m\u001b[0;34m,\u001b[0m \u001b[0musecols\u001b[0m\u001b[0;34m=\u001b[0m\u001b[0musecols\u001b[0m\u001b[0;34m,\u001b[0m\u001b[0;34m\u001b[0m\u001b[0;34m\u001b[0m\u001b[0m\n\u001b[1;32m   1375\u001b[0m                 \u001b[0munpack\u001b[0m\u001b[0;34m=\u001b[0m\u001b[0munpack\u001b[0m\u001b[0;34m,\u001b[0m \u001b[0mndmin\u001b[0m\u001b[0;34m=\u001b[0m\u001b[0mndmin\u001b[0m\u001b[0;34m,\u001b[0m \u001b[0mencoding\u001b[0m\u001b[0;34m=\u001b[0m\u001b[0mencoding\u001b[0m\u001b[0;34m,\u001b[0m\u001b[0;34m\u001b[0m\u001b[0;34m\u001b[0m\u001b[0m\n",
            "\u001b[0;32m/usr/local/lib/python3.10/dist-packages/numpy/lib/npyio.py\u001b[0m in \u001b[0;36m_read\u001b[0;34m(fname, delimiter, comment, quote, imaginary_unit, usecols, skiplines, max_rows, converters, ndmin, unpack, dtype, encoding)\u001b[0m\n\u001b[1;32m    990\u001b[0m             \u001b[0mfname\u001b[0m \u001b[0;34m=\u001b[0m \u001b[0mos\u001b[0m\u001b[0;34m.\u001b[0m\u001b[0mfspath\u001b[0m\u001b[0;34m(\u001b[0m\u001b[0mfname\u001b[0m\u001b[0;34m)\u001b[0m\u001b[0;34m\u001b[0m\u001b[0;34m\u001b[0m\u001b[0m\n\u001b[1;32m    991\u001b[0m         \u001b[0;32mif\u001b[0m \u001b[0misinstance\u001b[0m\u001b[0;34m(\u001b[0m\u001b[0mfname\u001b[0m\u001b[0;34m,\u001b[0m \u001b[0mstr\u001b[0m\u001b[0;34m)\u001b[0m\u001b[0;34m:\u001b[0m\u001b[0;34m\u001b[0m\u001b[0;34m\u001b[0m\u001b[0m\n\u001b[0;32m--> 992\u001b[0;31m             \u001b[0mfh\u001b[0m \u001b[0;34m=\u001b[0m \u001b[0mnp\u001b[0m\u001b[0;34m.\u001b[0m\u001b[0mlib\u001b[0m\u001b[0;34m.\u001b[0m\u001b[0m_datasource\u001b[0m\u001b[0;34m.\u001b[0m\u001b[0mopen\u001b[0m\u001b[0;34m(\u001b[0m\u001b[0mfname\u001b[0m\u001b[0;34m,\u001b[0m \u001b[0;34m'rt'\u001b[0m\u001b[0;34m,\u001b[0m \u001b[0mencoding\u001b[0m\u001b[0;34m=\u001b[0m\u001b[0mencoding\u001b[0m\u001b[0;34m)\u001b[0m\u001b[0;34m\u001b[0m\u001b[0;34m\u001b[0m\u001b[0m\n\u001b[0m\u001b[1;32m    993\u001b[0m             \u001b[0;32mif\u001b[0m \u001b[0mencoding\u001b[0m \u001b[0;32mis\u001b[0m \u001b[0;32mNone\u001b[0m\u001b[0;34m:\u001b[0m\u001b[0;34m\u001b[0m\u001b[0;34m\u001b[0m\u001b[0m\n\u001b[1;32m    994\u001b[0m                 \u001b[0mencoding\u001b[0m \u001b[0;34m=\u001b[0m \u001b[0mgetattr\u001b[0m\u001b[0;34m(\u001b[0m\u001b[0mfh\u001b[0m\u001b[0;34m,\u001b[0m \u001b[0;34m'encoding'\u001b[0m\u001b[0;34m,\u001b[0m \u001b[0;34m'latin1'\u001b[0m\u001b[0;34m)\u001b[0m\u001b[0;34m\u001b[0m\u001b[0;34m\u001b[0m\u001b[0m\n",
            "\u001b[0;32m/usr/local/lib/python3.10/dist-packages/numpy/lib/_datasource.py\u001b[0m in \u001b[0;36mopen\u001b[0;34m(path, mode, destpath, encoding, newline)\u001b[0m\n\u001b[1;32m    191\u001b[0m \u001b[0;34m\u001b[0m\u001b[0m\n\u001b[1;32m    192\u001b[0m     \u001b[0mds\u001b[0m \u001b[0;34m=\u001b[0m \u001b[0mDataSource\u001b[0m\u001b[0;34m(\u001b[0m\u001b[0mdestpath\u001b[0m\u001b[0;34m)\u001b[0m\u001b[0;34m\u001b[0m\u001b[0;34m\u001b[0m\u001b[0m\n\u001b[0;32m--> 193\u001b[0;31m     \u001b[0;32mreturn\u001b[0m \u001b[0mds\u001b[0m\u001b[0;34m.\u001b[0m\u001b[0mopen\u001b[0m\u001b[0;34m(\u001b[0m\u001b[0mpath\u001b[0m\u001b[0;34m,\u001b[0m \u001b[0mmode\u001b[0m\u001b[0;34m,\u001b[0m \u001b[0mencoding\u001b[0m\u001b[0;34m=\u001b[0m\u001b[0mencoding\u001b[0m\u001b[0;34m,\u001b[0m \u001b[0mnewline\u001b[0m\u001b[0;34m=\u001b[0m\u001b[0mnewline\u001b[0m\u001b[0;34m)\u001b[0m\u001b[0;34m\u001b[0m\u001b[0;34m\u001b[0m\u001b[0m\n\u001b[0m\u001b[1;32m    194\u001b[0m \u001b[0;34m\u001b[0m\u001b[0m\n\u001b[1;32m    195\u001b[0m \u001b[0;34m\u001b[0m\u001b[0m\n",
            "\u001b[0;32m/usr/local/lib/python3.10/dist-packages/numpy/lib/_datasource.py\u001b[0m in \u001b[0;36mopen\u001b[0;34m(self, path, mode, encoding, newline)\u001b[0m\n\u001b[1;32m    531\u001b[0m                                       encoding=encoding, newline=newline)\n\u001b[1;32m    532\u001b[0m         \u001b[0;32melse\u001b[0m\u001b[0;34m:\u001b[0m\u001b[0;34m\u001b[0m\u001b[0;34m\u001b[0m\u001b[0m\n\u001b[0;32m--> 533\u001b[0;31m             \u001b[0;32mraise\u001b[0m \u001b[0mFileNotFoundError\u001b[0m\u001b[0;34m(\u001b[0m\u001b[0;34mf\"{path} not found.\"\u001b[0m\u001b[0;34m)\u001b[0m\u001b[0;34m\u001b[0m\u001b[0;34m\u001b[0m\u001b[0m\n\u001b[0m\u001b[1;32m    534\u001b[0m \u001b[0;34m\u001b[0m\u001b[0m\n\u001b[1;32m    535\u001b[0m \u001b[0;34m\u001b[0m\u001b[0m\n",
            "\u001b[0;31mFileNotFoundError\u001b[0m: ex1data1.txt not found."
          ]
        }
      ]
    },
    {
      "cell_type": "markdown",
      "source": [
        "###Compute cost\n",
        "\n",
        "Since it's a regression problem, we use MSE as the loss function."
      ],
      "metadata": {
        "id": "ijem82TtEHWM"
      }
    },
    {
      "cell_type": "code",
      "source": [
        "def compute_cost(x, y, w, b):\n",
        "    \"\"\"\n",
        "    Computes the cost function for linear regression.\n",
        "\n",
        "    Args:\n",
        "        x (ndarray): Shape (m,) Input to the model (Population of cities)\n",
        "        y (ndarray): Shape (m,) Label (Actual profits for the cities)\n",
        "        w, b (scalar): Parameters of the model\n",
        "\n",
        "    Returns\n",
        "        total_cost (float): The cost of using w,b as the parameters for linear regression\n",
        "               to fit the data points in x and y\n",
        "    \"\"\"\n",
        "    # number of training examples\n",
        "    m = x.shape[0]\n",
        "\n",
        "    # You need to return this variable correctly\n",
        "    total_cost = 0\n",
        "\n",
        "    # Here we go through each input in a loop\n",
        "    for x_, y_ in zip(x, y):\n",
        "        # Forward pass\n",
        "        f_wb = w*x_+b\n",
        "        # Compute cost\n",
        "        c_ = (f_wb-y_)**2 #\n",
        "        total_cost+=c_\n",
        "\n",
        "    total_cost = total_cost/(2*len(y))\n",
        "\n",
        "    return total_cost"
      ],
      "metadata": {
        "id": "J9sh0ecAEZAo"
      },
      "execution_count": null,
      "outputs": []
    },
    {
      "cell_type": "markdown",
      "source": [
        "Let's check this implementation. The cost should be 75.203."
      ],
      "metadata": {
        "id": "ePWwnsaHEvOl"
      }
    },
    {
      "cell_type": "code",
      "source": [
        "# Compute cost with some initial values for paramaters w, b\n",
        "initial_w = 2\n",
        "initial_b = 1\n",
        "\n",
        "cost = compute_cost(x, y, initial_w, initial_b)\n",
        "print(type(cost))\n",
        "print(f'Cost at initial w (zeros): {cost:.3f}')\n",
        "\n"
      ],
      "metadata": {
        "colab": {
          "base_uri": "https://localhost:8080/"
        },
        "id": "vtpVPP4sEx9_",
        "outputId": "99a4e2d7-6555-464e-92c9-27b0a28ba977"
      },
      "execution_count": null,
      "outputs": [
        {
          "output_type": "stream",
          "name": "stdout",
          "text": [
            "<class 'numpy.float64'>\n",
            "Cost at initial w (zeros): 75.203\n"
          ]
        }
      ]
    },
    {
      "cell_type": "markdown",
      "source": [
        "###Compute gradient\n",
        "\n"
      ],
      "metadata": {
        "id": "0UYeKqrKFaIk"
      }
    },
    {
      "cell_type": "code",
      "source": [
        "def compute_gradient(x, y, w, b):\n",
        "    \"\"\"\n",
        "    Computes the gradient for linear regression\n",
        "    Args:\n",
        "      x (ndarray): Shape (m,) Input to the model (Population of cities)\n",
        "      y (ndarray): Shape (m,) Label (Actual profits for the cities)\n",
        "      w, b (scalar): Parameters of the model\n",
        "    Returns\n",
        "      dj_dw (scalar): The gradient of the cost w.r.t. the parameters w\n",
        "      dj_db (scalar): The gradient of the cost w.r.t. the parameter b\n",
        "     \"\"\"\n",
        "\n",
        "    # Number of training examples\n",
        "    m = x.shape[0]\n",
        "\n",
        "    # You need to return the following variables correctly\n",
        "    dj_dw = 0\n",
        "    dj_db = 0\n",
        "\n",
        "    # Here we go through all data in a vectorized fashion.\n",
        "    # In practice, this implementation is faster than loop.\n",
        "    w_ = np.ones(m,)*w\n",
        "    b_ = np.ones(m,)*b\n",
        "\n",
        "    # Forward pass\n",
        "    f_ = np.multiply(w_,x)+b_\n",
        "\n",
        "    # Backward pass\n",
        "    dj_db = np.sum(f_-y)/m\n",
        "    dj_dw = np.sum(np.multiply(f_-y, x))/m\n",
        "\n",
        "\n",
        "    return dj_dw, dj_db"
      ],
      "metadata": {
        "id": "-0uqPmR9FeDO"
      },
      "execution_count": null,
      "outputs": []
    },
    {
      "cell_type": "markdown",
      "source": [
        "Here we can test our implementation. The output should be -65.3 and -5.8."
      ],
      "metadata": {
        "id": "tSP2hl7vGuZM"
      }
    },
    {
      "cell_type": "code",
      "source": [
        "# Compute and display gradient with w initialized to zeroes\n",
        "initial_w = 0\n",
        "initial_b = 0\n",
        "\n",
        "tmp_dj_dw, tmp_dj_db = compute_gradient(x, y, initial_w, initial_b)\n",
        "print('Gradient at initial w, b (zeros):', tmp_dj_dw, tmp_dj_db)"
      ],
      "metadata": {
        "colab": {
          "base_uri": "https://localhost:8080/"
        },
        "id": "Rq3tEZogGnHb",
        "outputId": "737a6426-b7bf-4e29-d5ee-27f949d1b60d"
      },
      "execution_count": null,
      "outputs": [
        {
          "output_type": "stream",
          "name": "stdout",
          "text": [
            "Gradient at initial w, b (zeros): -65.32884974555671 -5.839135051546393\n"
          ]
        }
      ]
    },
    {
      "cell_type": "markdown",
      "source": [
        "### Gradient descent"
      ],
      "metadata": {
        "id": "d4PmN4yrHR_Z"
      }
    },
    {
      "cell_type": "code",
      "source": [
        "def gradient_descent(x, y, w_in, b_in, cost_function, gradient_function, alpha, num_iters):\n",
        "    \"\"\"\n",
        "    Performs batch gradient descent to learn theta. Updates theta by taking\n",
        "    num_iters gradient steps with learning rate alpha\n",
        "\n",
        "    Args:\n",
        "      x :    (ndarray): Shape (m,)\n",
        "      y :    (ndarray): Shape (m,)\n",
        "      w_in, b_in : (scalar) Initial values of parameters of the model\n",
        "      cost_function: function to compute cost\n",
        "      gradient_function: function to compute the gradient\n",
        "      alpha : (float) Learning rate\n",
        "      num_iters : (int) number of iterations to run gradient descent\n",
        "    Returns\n",
        "      w : (ndarray): Shape (1,) Updated values of parameters of the model after\n",
        "          running gradient descent\n",
        "      b : (scalar)                Updated value of parameter of the model after\n",
        "          running gradient descent\n",
        "    \"\"\"\n",
        "\n",
        "    # number of training examples\n",
        "    m = len(x)\n",
        "\n",
        "    # An array to store cost J and w's at each iteration — primarily for graphing later\n",
        "    J_history = []\n",
        "    w_history = []\n",
        "    w = copy.deepcopy(w_in)  #avoid modifying global w within function\n",
        "    b = b_in\n",
        "\n",
        "    for i in range(num_iters):\n",
        "\n",
        "        # Calculate the gradient and update the parameters\n",
        "        dj_dw, dj_db = gradient_function(x, y, w, b )\n",
        "\n",
        "        # Update Parameters using w, b, alpha and gradient\n",
        "        w = w - alpha * dj_dw\n",
        "        b = b - alpha * dj_db\n",
        "\n",
        "        # Save cost J at each iteration\n",
        "        if i<100000:      # prevent resource exhaustion\n",
        "            cost =  cost_function(x, y, w, b)\n",
        "            J_history.append(cost)\n",
        "\n",
        "        # Print cost every at intervals 10 times or as many iterations if < 10\n",
        "        if i% math.ceil(num_iters/10) == 0:\n",
        "            w_history.append(w)\n",
        "            print(f\"Iteration {i:4}: Cost {float(J_history[-1]):8.2f}   \")\n",
        "\n",
        "    return w, b, J_history, w_history #return w and J,w history for graphing"
      ],
      "metadata": {
        "id": "qYY2wOtQHiDH"
      },
      "execution_count": null,
      "outputs": []
    },
    {
      "cell_type": "markdown",
      "source": [
        "Now let's run the gradient descent algorithm above to learn the parameters for our dataset."
      ],
      "metadata": {
        "id": "B8FCRacPHvym"
      }
    },
    {
      "cell_type": "code",
      "source": [
        "# initialize fitting parameters. Recall that the shape of w is (n,)\n",
        "initial_w = 0.\n",
        "initial_b = 0.\n",
        "\n",
        "# some gradient descent settings\n",
        "iterations = 1500\n",
        "alpha = 0.01\n",
        "\n",
        "w,b,_,_ = gradient_descent(x ,y, initial_w, initial_b,\n",
        "                     compute_cost, compute_gradient, alpha, iterations)\n",
        "print(\"w,b found by gradient descent:\", w, b)"
      ],
      "metadata": {
        "colab": {
          "base_uri": "https://localhost:8080/"
        },
        "id": "8v64S4DZHyu0",
        "outputId": "11c83ecd-9acd-403b-de32-26ef95ff0587"
      },
      "execution_count": null,
      "outputs": [
        {
          "output_type": "stream",
          "name": "stdout",
          "text": [
            "Iteration    0: Cost     6.74   \n",
            "Iteration  150: Cost     5.31   \n",
            "Iteration  300: Cost     4.96   \n",
            "Iteration  450: Cost     4.76   \n",
            "Iteration  600: Cost     4.64   \n",
            "Iteration  750: Cost     4.57   \n",
            "Iteration  900: Cost     4.53   \n",
            "Iteration 1050: Cost     4.51   \n",
            "Iteration 1200: Cost     4.50   \n",
            "Iteration 1350: Cost     4.49   \n",
            "w,b found by gradient descent: 1.166362350335582 -3.6302914394043597\n"
          ]
        }
      ]
    },
    {
      "cell_type": "markdown",
      "source": [
        "Now we can computer the predicted output."
      ],
      "metadata": {
        "id": "gU9dTEMaH9XS"
      }
    },
    {
      "cell_type": "code",
      "source": [
        "m = x.shape[0]\n",
        "predicted = np.zeros(m)\n",
        "\n",
        "for i in range(m):\n",
        "    predicted[i] = w * x[i] + b"
      ],
      "metadata": {
        "id": "cZ6LnAG7H8o8"
      },
      "execution_count": null,
      "outputs": []
    },
    {
      "cell_type": "code",
      "source": [
        "# Plot the linear fit\n",
        "plt.plot(x, predicted, c = \"b\")\n",
        "\n",
        "# Create a scatter plot of the data.\n",
        "plt.scatter(x, y, marker='x', c='r')\n",
        "\n",
        "# Set the title\n",
        "plt.title(\"Profits vs. Population per city\")\n",
        "# Set the y-axis label\n",
        "plt.ylabel('Profit in $10,000')\n",
        "# Set the x-axis label\n",
        "plt.xlabel('Population of City in 10,000s')"
      ],
      "metadata": {
        "colab": {
          "base_uri": "https://localhost:8080/",
          "height": 489
        },
        "id": "G0JgAxghIJ0O",
        "outputId": "98bbbb5e-65a1-4194-9289-23a399520a26"
      },
      "execution_count": null,
      "outputs": [
        {
          "output_type": "execute_result",
          "data": {
            "text/plain": [
              "Text(0.5, 0, 'Population of City in 10,000s')"
            ]
          },
          "metadata": {},
          "execution_count": 9
        },
        {
          "output_type": "display_data",
          "data": {
            "text/plain": [
              "<Figure size 640x480 with 1 Axes>"
            ],
            "image/png": "[encoded data removed]"
          },
          "metadata": {}
        }
      ]
    },
    {
      "cell_type": "markdown",
      "source": [
        "##Classification problem\n",
        "\n",
        "Here the dataset is to use exam scores of 2 exams of a student to predict if the student will be admitted. We can load and plot the data."
      ],
      "metadata": {
        "id": "yZK1e4K4InVd"
      }
    },
    {
      "cell_type": "code",
      "source": [
        "data = np.loadtxt('ex2data1.txt', delimiter=',')\n",
        "X = data[:,:2]\n",
        "y = data[:,2]\n",
        "\n",
        "# visualize data\n",
        "plt.plot(X[y==1,0],X[y==1,1],'bo',label = 'Admitted')\n",
        "plt.plot(X[y==0,0],X[y==0,1],'rx',label = 'Not admitted')\n",
        "plt.legend(loc=\"upper right\")\n",
        "plt.ylabel('Exam 2 score')\n",
        "plt.xlabel('Exam 1 score')\n",
        "plt.show()"
      ],
      "metadata": {
        "colab": {
          "base_uri": "https://localhost:8080/",
          "height": 449
        },
        "id": "na5QtXQ6JHnT",
        "outputId": "6053f241-2d3e-4caa-9ff4-ca91e298c578"
      },
      "execution_count": null,
      "outputs": [
        {
          "output_type": "display_data",
          "data": {
            "text/plain": [
              "<Figure size 640x480 with 1 Axes>"
            ],
            "image/png": "[encoded data removed]"
          },
          "metadata": {}
        }
      ]
    },
    {
      "cell_type": "markdown",
      "source": [
        "### Sigmoid function\n",
        "\n",
        "In binary classification (logistic regression), sigmoid function is used as the activation function. Here let's implement our own sigmoid function."
      ],
      "metadata": {
        "id": "C-6cjxoOLAts"
      }
    },
    {
      "cell_type": "code",
      "source": [
        "def sigmoid(z):\n",
        "    \"\"\"\n",
        "    Compute the sigmoid of z\n",
        "\n",
        "    Args:\n",
        "        z (ndarray): A scalar, numpy array of any size.\n",
        "\n",
        "    Returns:\n",
        "        g (ndarray): sigmoid(z), with the same shape as z\n",
        "\n",
        "    \"\"\"\n",
        "\n",
        "    g = 1/(1+np.exp(-z))\n",
        "\n",
        "    return g"
      ],
      "metadata": {
        "id": "sXlOTDjTLceR"
      },
      "execution_count": null,
      "outputs": []
    },
    {
      "cell_type": "markdown",
      "source": [
        "Let's test the code with input 0. The output should be 0.5."
      ],
      "metadata": {
        "id": "Z6CQrdmFLje9"
      }
    },
    {
      "cell_type": "code",
      "source": [
        "print (\"sigmoid(0) = \" + str(sigmoid(0)))\n",
        "print (\"sigmoid(0) = \" + str(sigmoid(10000)))\n"
      ],
      "metadata": {
        "colab": {
          "base_uri": "https://localhost:8080/"
        },
        "id": "KTcFEPIuLoZt",
        "outputId": "2d93f35b-2e1f-48cb-891c-e341bed9059c"
      },
      "execution_count": null,
      "outputs": [
        {
          "output_type": "stream",
          "name": "stdout",
          "text": [
            "sigmoid(0) = 0.5\n",
            "sigmoid(0) = 1.0\n"
          ]
        }
      ]
    },
    {
      "cell_type": "markdown",
      "source": [
        "###Compute cost"
      ],
      "metadata": {
        "id": "bnSVfZd0Lwuy"
      }
    },
    {
      "cell_type": "code",
      "source": [
        "def compute_cost_loop(X, y, w, b):\n",
        "    \"\"\"\n",
        "    Computes the cost over all examples\n",
        "    Args:\n",
        "      X : (ndarray Shape (m,n)) data, m examples by n features\n",
        "      y : (array_like Shape (m,)) target value\n",
        "      w : (array_like Shape (n,)) Values of parameters of the model\n",
        "      b : scalar Values of bias parameter of the model\n",
        "      lambda_: unused placeholder\n",
        "    Returns:\n",
        "      total_cost: (scalar)         cost\n",
        "    \"\"\"\n",
        "\n",
        "    m, n = X.shape\n",
        "    total_cost = 0\n",
        "    # here we go through data via a loop\n",
        "    for i in range(m):\n",
        "      x_ = X[i,:]\n",
        "      y_ = y[i]\n",
        "      z = np.dot(w, x_)+b\n",
        "      f_wb = sigmoid(z)\n",
        "      if y_ == 1:\n",
        "         total_cost+=np.log(f_wb)/(-m)\n",
        "      elif y_ == 0:\n",
        "         total_cost+=np.log(1-f_wb)/(-m)\n",
        "\n",
        "    return total_cost"
      ],
      "metadata": {
        "id": "eEl7E-Z0L0Qz"
      },
      "execution_count": null,
      "outputs": []
    },
    {
      "cell_type": "markdown",
      "source": [
        "We can test the code here. The output should be 0.693."
      ],
      "metadata": {
        "id": "YHH5O_SuMHG7"
      }
    },
    {
      "cell_type": "code",
      "source": [
        "m, n = X.shape\n",
        "# Compute and display cost with w initialized to zeroes\n",
        "initial_w = np.zeros(n)\n",
        "initial_b = 0.\n",
        "cost = compute_cost_loop(X, y, initial_w, initial_b)\n",
        "print('Cost at initial w (zeros): {}'.format(cost))"
      ],
      "metadata": {
        "colab": {
          "base_uri": "https://localhost:8080/"
        },
        "id": "jBSecibwMPdv",
        "outputId": "8a2d60c8-3f33-4ec4-9a1b-454ccc292c3b"
      },
      "execution_count": null,
      "outputs": [
        {
          "output_type": "stream",
          "name": "stdout",
          "text": [
            "Cost at initial w (zeros): 0.6931471805599461\n"
          ]
        }
      ]
    },
    {
      "cell_type": "markdown",
      "source": [
        "### Compute gradient\n"
      ],
      "metadata": {
        "id": "pBYTbovSN_IA"
      }
    },
    {
      "cell_type": "code",
      "source": [
        "def compute_gradient_loop(X, y, w, b):\n",
        "    \"\"\"\n",
        "    Computes the gradient for logistic regression\n",
        "\n",
        "    Args:\n",
        "      X : (ndarray Shape (m,n)) variable such as house size\n",
        "      y : (array_like Shape (m,1)) actual value\n",
        "      w : (array_like Shape (n,1)) values of parameters of the model\n",
        "      b : (scalar)                 value of parameter of the model\n",
        "      lambda_: unused placeholder.\n",
        "    Returns\n",
        "      dj_dw: (array_like Shape (n,1)) The gradient of the cost w.r.t. the parameters w.\n",
        "      dj_db: (scalar)                The gradient of the cost w.r.t. the parameter b.\n",
        "    \"\"\"\n",
        "    m, n = X.shape\n",
        "    dj_dw = np.zeros(w.shape)\n",
        "    dj_db = 0.\n",
        "\n",
        "\n",
        "    for i in range(m):\n",
        "        loss = sigmoid(np.dot(X[i,:], w)+b) - y[i]\n",
        "\n",
        "        dj_db+=loss\n",
        "        for j in range(n):\n",
        "            dj_dw[j] += loss*X[i,j]\n",
        "\n",
        "    dj_db = dj_db/m\n",
        "    dj_dw = dj_dw/m\n",
        "\n",
        "    return dj_db, dj_dw"
      ],
      "metadata": {
        "id": "2V7tMmCxOnus"
      },
      "execution_count": null,
      "outputs": []
    },
    {
      "cell_type": "markdown",
      "source": [
        "Test the code. The output should be [-0.1], [-12.0, -11.3]"
      ],
      "metadata": {
        "id": "feHr5jeWO5Ew"
      }
    },
    {
      "cell_type": "code",
      "source": [
        "# Compute and display gradient with w initialized to zeroes\n",
        "initial_w = np.zeros(n)\n",
        "initial_b = 0.\n",
        "\n",
        "dj_db, dj_dw = compute_gradient_loop(X, y, initial_w, initial_b)\n",
        "print(f'dj_db at initial w (zeros):{dj_db}' )\n",
        "print(f'dj_dw at initial w (zeros):{dj_dw.tolist()}' )\n",
        "\n"
      ],
      "metadata": {
        "colab": {
          "base_uri": "https://localhost:8080/"
        },
        "id": "pc0D6izXPDhl",
        "outputId": "e01b5e66-215f-4401-f1da-2f0baf8a1dd3"
      },
      "execution_count": null,
      "outputs": [
        {
          "output_type": "stream",
          "name": "stdout",
          "text": [
            "dj_db at initial w (zeros):-0.1\n",
            "dj_dw at initial w (zeros):[-12.00921658929115, -11.262842205513591]\n"
          ]
        }
      ]
    },
    {
      "cell_type": "markdown",
      "source": [
        "###Gradient descent\n",
        "\n",
        "Now let's run the gradient descent algorithm above to learn the parameters for our dataset."
      ],
      "metadata": {
        "id": "2W8uugemSb5x"
      }
    },
    {
      "cell_type": "code",
      "source": [
        "# notice in this updated version, X is a matrix to handle multiple input\n",
        "def gradient_descent_log(X, y, w_in, b_in, cost_function, gradient_function, alpha, num_iters):\n",
        "    \"\"\"\n",
        "    Performs batch gradient descent to learn theta. Updates theta by taking\n",
        "    num_iters gradient steps with learning rate alpha\n",
        "\n",
        "    Args:\n",
        "      X :    (array_like Shape (m, n)\n",
        "      y :    (array_like Shape (m,))\n",
        "      w_in : (array_like Shape (n,))  Initial values of parameters of the model\n",
        "      b_in : (scalar)                 Initial value of parameter of the model\n",
        "      cost_function:                  function to compute cost\n",
        "      alpha : (float)                 Learning rate\n",
        "      num_iters : (int)               number of iterations to run gradient descent\n",
        "      lambda_ (scalar, float)         regularization constant\n",
        "\n",
        "    Returns:\n",
        "      w : (array_like Shape (n,)) Updated values of parameters of the model after\n",
        "          running gradient descent\n",
        "      b : (scalar)                Updated value of parameter of the model after\n",
        "          running gradient descent\n",
        "    \"\"\"\n",
        "\n",
        "    # number of training examples\n",
        "    m = len(X)\n",
        "\n",
        "    # An array to store cost J and w's at each iteration primarily for graphing later\n",
        "    J_history = []\n",
        "    w_history = []\n",
        "\n",
        "    for i in range(num_iters):\n",
        "\n",
        "        # Calculate the gradient and update the parameters\n",
        "        dj_db, dj_dw = gradient_function(X, y, w_in, b_in)\n",
        "\n",
        "        # Update Parameters using w, b, alpha and gradient\n",
        "        w_in = w_in - alpha * dj_dw\n",
        "        b_in = b_in - alpha * dj_db\n",
        "\n",
        "        # Save cost J at each iteration\n",
        "        if i<100000:      # prevent resource exhaustion\n",
        "            cost =  cost_function(X, y, w_in, b_in)\n",
        "            J_history.append(cost)\n",
        "\n",
        "        # Print cost every at intervals 10 times or as many iterations if < 10\n",
        "        if i% math.ceil(num_iters/10) == 0 or i == (num_iters-1):\n",
        "            w_history.append(w_in)\n",
        "            print(f\"Iteration {i:4}: Cost {float(J_history[-1]):8.2f}   \")\n",
        "\n",
        "    return w_in, b_in, J_history, w_history #return w and J,w history for graphing\n",
        "\n",
        "\n",
        "np.random.seed(42)\n",
        "initial_w = 0.01 * (np.random.rand(X.shape[1]).reshape(-1,1) - 0.5)\n",
        "initial_b = -8\n",
        "\n",
        "\n",
        "# Some gradient descent settings\n",
        "iterations = 10000\n",
        "alpha = 0.001\n",
        "\n",
        "w,b, J_history,_ = gradient_descent_log(X,y, initial_w, initial_b,\n",
        "                                   compute_cost_loop, compute_gradient_loop, alpha, iterations)"
      ],
      "metadata": {
        "colab": {
          "base_uri": "https://localhost:8080/",
          "height": 339
        },
        "id": "ib9x9dBRSjH_",
        "outputId": "3025d70e-3a76-4176-f8e8-cbe610426130"
      },
      "execution_count": null,
      "outputs": [
        {
          "output_type": "error",
          "ename": "ValueError",
          "evalue": "shapes (2,) and (230,) not aligned: 2 (dim 0) != 230 (dim 0)",
          "traceback": [
            "\u001b[0;31m---------------------------------------------------------------------------\u001b[0m",
            "\u001b[0;31mValueError\u001b[0m                                Traceback (most recent call last)",
            "\u001b[0;32m<ipython-input-15-dcd4cb3ce388>\u001b[0m in \u001b[0;36m<cell line: 62>\u001b[0;34m()\u001b[0m\n\u001b[1;32m     60\u001b[0m \u001b[0malpha\u001b[0m \u001b[0;34m=\u001b[0m \u001b[0;36m0.001\u001b[0m\u001b[0;34m\u001b[0m\u001b[0;34m\u001b[0m\u001b[0m\n\u001b[1;32m     61\u001b[0m \u001b[0;34m\u001b[0m\u001b[0m\n\u001b[0;32m---> 62\u001b[0;31m w,b, J_history,_ = gradient_descent_log(X,y, initial_w, initial_b,\n\u001b[0m\u001b[1;32m     63\u001b[0m                                    compute_cost_loop, compute_gradient_loop, alpha, iterations)\n",
            "\u001b[0;32m<ipython-input-15-dcd4cb3ce388>\u001b[0m in \u001b[0;36mgradient_descent_log\u001b[0;34m(X, y, w_in, b_in, cost_function, gradient_function, alpha, num_iters)\u001b[0m\n\u001b[1;32m     32\u001b[0m \u001b[0;34m\u001b[0m\u001b[0m\n\u001b[1;32m     33\u001b[0m         \u001b[0;31m# Calculate the gradient and update the parameters\u001b[0m\u001b[0;34m\u001b[0m\u001b[0;34m\u001b[0m\u001b[0m\n\u001b[0;32m---> 34\u001b[0;31m         \u001b[0mdj_db\u001b[0m\u001b[0;34m,\u001b[0m \u001b[0mdj_dw\u001b[0m \u001b[0;34m=\u001b[0m \u001b[0mgradient_function\u001b[0m\u001b[0;34m(\u001b[0m\u001b[0mX\u001b[0m\u001b[0;34m,\u001b[0m \u001b[0my\u001b[0m\u001b[0;34m,\u001b[0m \u001b[0mw_in\u001b[0m\u001b[0;34m,\u001b[0m \u001b[0mb_in\u001b[0m\u001b[0;34m)\u001b[0m\u001b[0;34m\u001b[0m\u001b[0;34m\u001b[0m\u001b[0m\n\u001b[0m\u001b[1;32m     35\u001b[0m \u001b[0;34m\u001b[0m\u001b[0m\n\u001b[1;32m     36\u001b[0m         \u001b[0;31m# Update Parameters using w, b, alpha and gradient\u001b[0m\u001b[0;34m\u001b[0m\u001b[0;34m\u001b[0m\u001b[0m\n",
            "\u001b[0;32m<ipython-input-14-b1b6601c7b86>\u001b[0m in \u001b[0;36mcompute_gradient_loop\u001b[0;34m(X, y, w, b)\u001b[0m\n\u001b[1;32m     19\u001b[0m \u001b[0;34m\u001b[0m\u001b[0m\n\u001b[1;32m     20\u001b[0m     \u001b[0;32mfor\u001b[0m \u001b[0mi\u001b[0m \u001b[0;32min\u001b[0m \u001b[0mrange\u001b[0m\u001b[0;34m(\u001b[0m\u001b[0mm\u001b[0m\u001b[0;34m)\u001b[0m\u001b[0;34m:\u001b[0m\u001b[0;34m\u001b[0m\u001b[0;34m\u001b[0m\u001b[0m\n\u001b[0;32m---> 21\u001b[0;31m         \u001b[0mloss\u001b[0m \u001b[0;34m=\u001b[0m \u001b[0msigmoid\u001b[0m\u001b[0;34m(\u001b[0m\u001b[0mnp\u001b[0m\u001b[0;34m.\u001b[0m\u001b[0mdot\u001b[0m\u001b[0;34m(\u001b[0m\u001b[0mX\u001b[0m\u001b[0;34m[\u001b[0m\u001b[0mi\u001b[0m\u001b[0;34m,\u001b[0m\u001b[0;34m:\u001b[0m\u001b[0;34m]\u001b[0m\u001b[0;34m,\u001b[0m \u001b[0mw\u001b[0m\u001b[0;34m)\u001b[0m\u001b[0;34m+\u001b[0m\u001b[0mb\u001b[0m\u001b[0;34m)\u001b[0m \u001b[0;34m-\u001b[0m \u001b[0my\u001b[0m\u001b[0;34m[\u001b[0m\u001b[0mi\u001b[0m\u001b[0;34m]\u001b[0m\u001b[0;34m\u001b[0m\u001b[0;34m\u001b[0m\u001b[0m\n\u001b[0m\u001b[1;32m     22\u001b[0m \u001b[0;34m\u001b[0m\u001b[0m\n\u001b[1;32m     23\u001b[0m         \u001b[0mdj_db\u001b[0m\u001b[0;34m+=\u001b[0m\u001b[0mloss\u001b[0m\u001b[0;34m\u001b[0m\u001b[0;34m\u001b[0m\u001b[0m\n",
            "\u001b[0;31mValueError\u001b[0m: shapes (2,) and (230,) not aligned: 2 (dim 0) != 230 (dim 0)"
          ]
        }
      ]
    },
    {
      "cell_type": "markdown",
      "source": [
        "###Predict\n",
        "\n"
      ],
      "metadata": {
        "id": "lgudWTshVGT5"
      }
    },
    {
      "cell_type": "code",
      "source": [
        "def predict(X, w, b):\n",
        "    \"\"\"\n",
        "    Predict whether the label is 0 or 1 using learned logistic\n",
        "    regression parameters w\n",
        "\n",
        "    Args:\n",
        "    X : (ndarray Shape (m, n))\n",
        "    w : (array_like Shape (n,))      Parameters of the model\n",
        "    b : (scalar, float)              Parameter of the model\n",
        "\n",
        "    Returns:\n",
        "    p: (ndarray (m,1))\n",
        "        The predictions for X using a threshold at 0.5\n",
        "    \"\"\"\n",
        "    # number of training examples\n",
        "    m, n = X.shape\n",
        "    p = np.zeros(m)\n",
        "\n",
        "    p = sigmoid(np.matmul(X, w)+b)\n",
        "    p[p >= 0.5] = 1\n",
        "    p[p<0.5] = 0\n",
        "\n",
        "    return p"
      ],
      "metadata": {
        "id": "jNjE77GUVO8d"
      },
      "execution_count": null,
      "outputs": []
    },
    {
      "cell_type": "code",
      "source": [
        "pred_y = predict(X, w, b)\n",
        "print('Accuracy: %d' % float((np.dot(y,pred_y) + np.dot(1-y,1-pred_y))/float(y.size)*100) + '%')"
      ],
      "metadata": {
        "colab": {
          "base_uri": "https://localhost:8080/"
        },
        "id": "NHapEsrLVUET",
        "outputId": "51fde9b3-afd7-444e-9e70-ce556225caeb"
      },
      "execution_count": null,
      "outputs": [
        {
          "output_type": "stream",
          "name": "stdout",
          "text": [
            "Accuracy: 92%\n"
          ]
        }
      ]
    },
    {
      "cell_type": "markdown",
      "source": [
        "We can visualize the result."
      ],
      "metadata": {
        "id": "b7-TrylRVof0"
      }
    },
    {
      "cell_type": "code",
      "source": [
        "# compare result\n",
        "plt.figure(figsize=(12, 6))\n",
        "plt.subplot(1, 2, 1);\n",
        "plt.plot(X[y==1,0],X[y==1,1],'bo',label = 'Admitted')\n",
        "plt.plot(X[y==0,0],X[y==0,1],'rx',label = 'Not admitted')\n",
        "plt.legend(loc=\"upper right\")\n",
        "plt.ylabel('Exam 2 score')\n",
        "plt.xlabel('Exam 1 score')\n",
        "plt.title('Ground truth')\n",
        "\n",
        "plt.subplot(1, 2, 2);\n",
        "plt.plot(X[pred_y==1,0],X[pred_y==1,1],'bo',label = 'Admitted')\n",
        "plt.plot(X[pred_y==0,0],X[pred_y==0,1],'rx',label = 'Not admitted')\n",
        "plt.legend(loc=\"upper right\")\n",
        "plt.ylabel('Exam 2 score')\n",
        "plt.xlabel('Exam 1 score')\n",
        "plt.title('Predictions')\n",
        "\n",
        "plt.show()"
      ],
      "metadata": {
        "colab": {
          "base_uri": "https://localhost:8080/",
          "height": 564
        },
        "id": "8zPAL9oVVrB2",
        "outputId": "8ce81f00-7bd2-473b-e912-d9c0c00e1985"
      },
      "execution_count": null,
      "outputs": [
        {
          "output_type": "display_data",
          "data": {
            "text/plain": [
              "<Figure size 1200x600 with 2 Axes>"
            ],
            "image/png": "[encoded data removed]"
          },
          "metadata": {}
        }
      ]
    },
    {
      "cell_type": "markdown",
      "source": [
        "##Regularization\n",
        "\n",
        "Let's look at another example where the data is not linearly separable."
      ],
      "metadata": {
        "id": "3CxBNjQ0WIKb"
      }
    },
    {
      "cell_type": "code",
      "source": [
        "data = np.loadtxt('ex2data2.txt', delimiter=',')\n",
        "X = data[:,:2]\n",
        "y = data[:,2]\n",
        "\n",
        "# visualize data\n",
        "plt.plot(X[y==1,0],X[y==1,1],'bo',label = 'Possitive')\n",
        "plt.plot(X[y==0,0],X[y==0,1],'rx',label = 'Negative')\n",
        "plt.legend(loc=\"upper right\")\n",
        "plt.ylabel('x1')\n",
        "plt.xlabel('x2')\n",
        "plt.show()"
      ],
      "metadata": {
        "colab": {
          "base_uri": "https://localhost:8080/",
          "height": 449
        },
        "id": "fsQkSvaKWuqv",
        "outputId": "dd1110f6-d223-4573-ce35-e3369a30931d"
      },
      "execution_count": null,
      "outputs": [
        {
          "output_type": "display_data",
          "data": {
            "text/plain": [
              "<Figure size 640x480 with 1 Axes>"
            ],
            "image/png": "[encoded data removed]"
          },
          "metadata": {}
        }
      ]
    },
    {
      "cell_type": "markdown",
      "source": [
        "On top of the simple linear regression model, we introduce non-linearity by feature engineering."
      ],
      "metadata": {
        "id": "BUZyMbebXKGK"
      }
    },
    {
      "cell_type": "code",
      "source": [
        "def map_feature(X1, X2):\n",
        "    \"\"\"\n",
        "    Feature mapping function to polynomial features\n",
        "    \"\"\"\n",
        "    X1 = np.atleast_1d(X1)\n",
        "    X2 = np.atleast_1d(X2)\n",
        "    degree = 20\n",
        "    out = []\n",
        "    for i in range(1, degree+1):\n",
        "        for j in range(i + 1):\n",
        "            out.append((X1**(i-j) * (X2**j)))\n",
        "    return np.stack(out, axis=1)"
      ],
      "metadata": {
        "id": "emb7fFlrXT0e"
      },
      "execution_count": null,
      "outputs": []
    },
    {
      "cell_type": "code",
      "source": [
        "print(\"Original shape of data:\", X.shape)\n",
        "\n",
        "X_mapped =  map_feature(X[:, 0], X[:, 1])\n",
        "print(\"Shape after feature mapping:\", X_mapped.shape)"
      ],
      "metadata": {
        "colab": {
          "base_uri": "https://localhost:8080/"
        },
        "id": "miqvmt5AX7Ja",
        "outputId": "c0287411-212c-474b-dcba-4566c1c2a74a"
      },
      "execution_count": null,
      "outputs": [
        {
          "output_type": "stream",
          "name": "stdout",
          "text": [
            "Original shape of data: (118, 2)\n",
            "Shape after feature mapping: (118, 230)\n"
          ]
        }
      ]
    },
    {
      "cell_type": "markdown",
      "source": [
        "###Compute cost with regularization\n",
        "\n",
        "We can add a regularization term in the cost with a parameter lambda to determine the weight."
      ],
      "metadata": {
        "id": "CpEt9ewuYEOw"
      }
    },
    {
      "cell_type": "code",
      "source": [
        "# UNQ_C5\n",
        "def compute_cost_reg(X, y, w, b, lambda_ = 1):\n",
        "    \"\"\"\n",
        "    Computes the cost over all examples\n",
        "    Args:\n",
        "      X : (array_like Shape (m,n)) data, m examples by n features\n",
        "      y : (array_like Shape (m,)) target value\n",
        "      w : (array_like Shape (n,)) Values of parameters of the model\n",
        "      b : (array_like Shape (n,)) Values of bias parameter of the model\n",
        "      lambda_ : (scalar, float)    Controls amount of regularization\n",
        "    Returns:\n",
        "      total_cost: (scalar)         cost\n",
        "    \"\"\"\n",
        "\n",
        "    m, n = X.shape\n",
        "\n",
        "    # Calls the compute_cost function that you implemented above\n",
        "    cost_without_reg = compute_cost_loop(X, y, w, b)\n",
        "\n",
        "    # You need to calculate this value\n",
        "    reg_cost = 0.\n",
        "\n",
        "    reg_cost = np.sum(np.square(w))\n",
        "\n",
        "    # Add the regularization cost to get the total cost\n",
        "    total_cost = cost_without_reg + (lambda_/(2 * m)) * reg_cost\n",
        "\n",
        "    return total_cost"
      ],
      "metadata": {
        "id": "Ah4uopa4YK3W"
      },
      "execution_count": null,
      "outputs": []
    },
    {
      "cell_type": "markdown",
      "source": [
        "We can test this code. The output should be 0.66."
      ],
      "metadata": {
        "id": "9vsJTvM5Yov5"
      }
    },
    {
      "cell_type": "code",
      "source": [
        "np.random.seed(1)\n",
        "initial_w = np.random.rand(X_mapped.shape[1]) - 0.5\n",
        "initial_b = 0.5\n",
        "lambda_ = 0.5\n",
        "cost = compute_cost_reg(X_mapped, y, initial_w, initial_b, lambda_)\n",
        "\n",
        "print(\"Regularized cost :\", cost)"
      ],
      "metadata": {
        "colab": {
          "base_uri": "https://localhost:8080/"
        },
        "id": "sRuYNKBMYsQ0",
        "outputId": "c4584803-435a-4933-b941-3053a2755a09"
      },
      "execution_count": null,
      "outputs": [
        {
          "output_type": "stream",
          "name": "stdout",
          "text": [
            "Regularized cost : 0.9063942982519281\n"
          ]
        }
      ]
    },
    {
      "cell_type": "markdown",
      "source": [
        "###Compute gradient with regularization\n",
        "\n",
        "Similarly, we can add the regularization part to the gradient function.\n"
      ],
      "metadata": {
        "id": "mK_nbvIac3Hh"
      }
    },
    {
      "cell_type": "code",
      "source": [
        "def compute_gradient_reg(X, y, w, b, lambda_ = 1):\n",
        "    \"\"\"\n",
        "    Computes the gradient for linear regression\n",
        "\n",
        "    Args:\n",
        "      X : (ndarray Shape (m,n))   variable such as house size\n",
        "      y : (ndarray Shape (m,))    actual value\n",
        "      w : (ndarray Shape (n,))    values of parameters of the model\n",
        "      b : (scalar)                value of parameter of the model\n",
        "      lambda_ : (scalar,float)    regularization constant\n",
        "    Returns\n",
        "      dj_db: (scalar)             The gradient of the cost w.r.t. the parameter b.\n",
        "      dj_dw: (ndarray Shape (n,)) The gradient of the cost w.r.t. the parameters w.\n",
        "\n",
        "    \"\"\"\n",
        "    m, n = X.shape\n",
        "\n",
        "    dj_db, dj_dw = compute_gradient_loop(X, y, w, b)\n",
        "\n",
        "    dj_dw = dj_dw + w*lambda_/m\n",
        "\n",
        "    return dj_db, dj_dw"
      ],
      "metadata": {
        "id": "4RpPFtP8dB76"
      },
      "execution_count": null,
      "outputs": []
    },
    {
      "cell_type": "markdown",
      "source": [
        "We can test this code. The output should be [0.07] [-0.01, 0.01, 0.05, 0.003]"
      ],
      "metadata": {
        "id": "Q7aJVRskdPIY"
      }
    },
    {
      "cell_type": "code",
      "source": [
        "np.random.seed(1)\n",
        "initial_w  = np.random.rand(X_mapped.shape[1]) - 0.5\n",
        "initial_b = 0.5\n",
        "\n",
        "lambda_ = 0.5\n",
        "dj_db, dj_dw = compute_gradient_reg(X_mapped, y, initial_w, initial_b, lambda_)\n",
        "\n",
        "print(f\"dj_db: {dj_db}\", )\n",
        "print(f\"First few elements of regularized dj_dw:\\n {dj_dw[:4].tolist()}\", )"
      ],
      "metadata": {
        "colab": {
          "base_uri": "https://localhost:8080/"
        },
        "id": "euD7PnoVdcta",
        "outputId": "0d6dcd48-ec8c-4508-8152-9bf738d595b3"
      },
      "execution_count": null,
      "outputs": [
        {
          "output_type": "stream",
          "name": "stdout",
          "text": [
            "dj_db: 0.09353423811331944\n",
            "First few elements of regularized dj_dw:\n",
            " [-0.021979583894165856, 0.041806317690575315, 0.04863860128958803, 0.0008938378189808182]\n"
          ]
        }
      ]
    },
    {
      "cell_type": "markdown",
      "source": [
        "### Gradient descent\n"
      ],
      "metadata": {
        "id": "JSj_bDEjdtyI"
      }
    },
    {
      "cell_type": "code",
      "source": [
        "def gradient_descent_reg(X, y, w_in, b_in, cost_function, gradient_function, alpha, num_iters, lambda_):\n",
        "    \"\"\"\n",
        "    Performs batch gradient descent to learn theta. Updates theta by taking\n",
        "    num_iters gradient steps with learning rate alpha\n",
        "\n",
        "    Args:\n",
        "      X :    (array_like Shape (m, n)\n",
        "      y :    (array_like Shape (m,))\n",
        "      w_in : (array_like Shape (n,))  Initial values of parameters of the model\n",
        "      b_in : (scalar)                 Initial value of parameter of the model\n",
        "      cost_function:                  function to compute cost\n",
        "      alpha : (float)                 Learning rate\n",
        "      num_iters : (int)               number of iterations to run gradient descent\n",
        "      lambda_ (scalar, float)         regularization constant\n",
        "\n",
        "    Returns:\n",
        "      w : (array_like Shape (n,)) Updated values of parameters of the model after\n",
        "          running gradient descent\n",
        "      b : (scalar)                Updated value of parameter of the model after\n",
        "          running gradient descent\n",
        "    \"\"\"\n",
        "\n",
        "    # number of training examples\n",
        "    m = len(X)\n",
        "\n",
        "    # An array to store cost J and w's at each iteration primarily for graphing later\n",
        "    J_history = []\n",
        "    w_history = []\n",
        "\n",
        "    for i in range(num_iters):\n",
        "\n",
        "        # Calculate the gradient and update the parameters\n",
        "        dj_db, dj_dw = gradient_function(X, y, w_in, b_in, lambda_)\n",
        "\n",
        "        # Update Parameters using w, b, alpha and gradient\n",
        "        w_in = w_in - alpha * dj_dw\n",
        "        b_in = b_in - alpha * dj_db\n",
        "\n",
        "        # Save cost J at each iteration\n",
        "        if i<100000:      # prevent resource exhaustion\n",
        "            cost =  cost_function(X, y, w_in, b_in, lambda_)\n",
        "            J_history.append(cost)\n",
        "\n",
        "        # Print cost every at intervals 10 times or as many iterations if < 10\n",
        "        if i% math.ceil(num_iters/10) == 0 or i == (num_iters-1):\n",
        "            w_history.append(w_in)\n",
        "            print(f\"Iteration {i:4}: Cost {float(J_history[-1]):8.2f}   \")\n",
        "\n",
        "    return w_in, b_in, J_history, w_history #return w and J,w history for graphing"
      ],
      "metadata": {
        "id": "uVFUK9VBeEdL"
      },
      "execution_count": null,
      "outputs": []
    },
    {
      "cell_type": "code",
      "source": [
        "# Initialize fitting parameters\n",
        "np.random.seed(1)\n",
        "initial_w = np.random.rand(X_mapped.shape[1])-0.5\n",
        "initial_b = 1.\n",
        "\n",
        "# Set regularization parameter lambda_ to 1 (you can try varying this)\n",
        "lambda_ = 0.01;\n",
        "# Some gradient descent settings\n",
        "iterations = 10000\n",
        "alpha = 0.01\n",
        "\n",
        "w,b, J_history,_ = gradient_descent_reg(X_mapped, y, initial_w, initial_b,\n",
        "                                    compute_cost_reg, compute_gradient_reg,\n",
        "                                    alpha, iterations, lambda_)"
      ],
      "metadata": {
        "colab": {
          "base_uri": "https://localhost:8080/"
        },
        "id": "jMoae-HqdyvU",
        "outputId": "8e8e514c-a118-43d6-f773-e662376eaa4e"
      },
      "execution_count": null,
      "outputs": [
        {
          "output_type": "stream",
          "name": "stdout",
          "text": [
            "Iteration    0: Cost     0.93   \n",
            "Iteration 1000: Cost     0.57   \n",
            "Iteration 2000: Cost     0.54   \n",
            "Iteration 3000: Cost     0.52   \n",
            "Iteration 4000: Cost     0.50   \n",
            "Iteration 5000: Cost     0.49   \n",
            "Iteration 6000: Cost     0.48   \n",
            "Iteration 7000: Cost     0.47   \n",
            "Iteration 8000: Cost     0.46   \n",
            "Iteration 9000: Cost     0.45   \n",
            "Iteration 9999: Cost     0.44   \n"
          ]
        }
      ]
    },
    {
      "cell_type": "markdown",
      "source": [
        "### Predict"
      ],
      "metadata": {
        "id": "lLeR9JHLe0X1"
      }
    },
    {
      "cell_type": "code",
      "source": [
        "pred_y = predict(X_mapped, w, b)\n",
        "print('Accuracy: %d' % float((np.dot(y,pred_y) + np.dot(1-y,1-pred_y))/float(y.size)*100) + '%')"
      ],
      "metadata": {
        "colab": {
          "base_uri": "https://localhost:8080/"
        },
        "id": "kzdKV3Xpe3KY",
        "outputId": "34c7aa95-9e6d-4792-fa10-9c76373f94de"
      },
      "execution_count": null,
      "outputs": [
        {
          "output_type": "stream",
          "name": "stdout",
          "text": [
            "Accuracy: 82%\n"
          ]
        }
      ]
    },
    {
      "cell_type": "code",
      "source": [
        "# compare result\n",
        "plt.figure(figsize=(12, 6))\n",
        "plt.subplot(1, 2, 1);\n",
        "plt.plot(X[y==1,0],X[y==1,1],'bo',label = 'Positive')\n",
        "plt.plot(X[y==0,0],X[y==0,1],'rx',label = 'Negative')\n",
        "plt.legend(loc=\"upper right\")\n",
        "plt.ylabel('x1')\n",
        "plt.xlabel('x2')\n",
        "plt.title('Ground truth')\n",
        "\n",
        "plt.subplot(1, 2, 2);\n",
        "plt.plot(X[pred_y==1,0],X[pred_y==1,1],'bo',label = 'Positive')\n",
        "plt.plot(X[pred_y==0,0],X[pred_y==0,1],'rx',label = 'Negative')\n",
        "plt.legend(loc=\"upper right\")\n",
        "plt.ylabel('x1')\n",
        "plt.xlabel('x2')\n",
        "plt.title('Ground truth')\n",
        "\n",
        "plt.show()"
      ],
      "metadata": {
        "colab": {
          "base_uri": "https://localhost:8080/",
          "height": 564
        },
        "id": "hYor8VbAfD4P",
        "outputId": "60d32bd0-fbcb-4fff-f41e-c13086df110d"
      },
      "execution_count": null,
      "outputs": [
        {
          "output_type": "display_data",
          "data": {
            "text/plain": [
              "<Figure size 1200x600 with 2 Axes>"
            ],
            "image/png": "[encoded data removed]"
          },
          "metadata": {}
        }
      ]
    },
    {
      "cell_type": "markdown",
      "source": [
        "# Pytorch implementation of a basic multi-layer NN"
      ],
      "metadata": {
        "id": "qUYyu76cqtYg"
      }
    },
    {
      "cell_type": "markdown",
      "source": [
        "## Check your environment\n",
        "\n",
        "Check GPU and torch in your environment. If you are using colab, change runtime type on top right corner to select GPU runtime."
      ],
      "metadata": {
        "id": "xULiWeLvduqR"
      }
    },
    {
      "cell_type": "code",
      "source": [
        "# Check for GPU\n",
        "!nvidia-smi"
      ],
      "metadata": {
        "colab": {
          "base_uri": "https://localhost:8080/"
        },
        "id": "bUDhp5i0IHps",
        "outputId": "7c1d5d79-9507-4f6f-a32f-af8bd3454b4e"
      },
      "execution_count": null,
      "outputs": [
        {
          "output_type": "stream",
          "name": "stdout",
          "text": [
            "/bin/bash: line 1: nvidia-smi: command not found\n"
          ]
        }
      ]
    },
    {
      "cell_type": "code",
      "source": [
        "# Import torch\n",
        "import torch\n",
        "\n",
        "# Setup device agnostic code\n",
        "device = \"cuda\" if torch.cuda.is_available() else \"cpu\"\n",
        "device"
      ],
      "metadata": {
        "colab": {
          "base_uri": "https://localhost:8080/",
          "height": 35
        },
        "id": "CSrUPgapO0tf",
        "outputId": "055682b2-fab2-444d-fabe-39e4e97292bd"
      },
      "execution_count": null,
      "outputs": [
        {
          "output_type": "execute_result",
          "data": {
            "text/plain": [
              "'cpu'"
            ],
            "application/vnd.google.colaboratory.intrinsic+json": {
              "type": "string"
            }
          },
          "metadata": {},
          "execution_count": 38
        }
      ]
    },
    {
      "cell_type": "markdown",
      "source": [
        "In pytorch, torch.tensor[(documentation)](https://pytorch.org/docs/stable/tensors.html) is used in storing parameters and data, moving data between CPU and GPU memory, and carry out computation. torch.tensor has very similar functionalities and syntex with numpy array."
      ],
      "metadata": {
        "id": "skgySCZCgqaw"
      }
    },
    {
      "cell_type": "code",
      "source": [
        "print(X.dtype, y.dtype)\n",
        "\n",
        "# Turn data into tensors\n",
        "X = torch.tensor(X, dtype=torch.float)\n",
        "y = torch.tensor(y, dtype=torch.float)\n",
        "\n",
        "print(X.dtype, y.dtype)\n",
        "\n",
        "# Split the data into train and test sets\n",
        "from sklearn.model_selection import train_test_split\n",
        "X_train, X_test, y_train, y_test = train_test_split(X,\n",
        "                                                    y,\n",
        "                                                    test_size=0.2,\n",
        "                                                    random_state=1)\n",
        "\n",
        "len(X_train), len(X_test), len(y_train), len(y_test)"
      ],
      "metadata": {
        "colab": {
          "base_uri": "https://localhost:8080/"
        },
        "id": "bDhyHn9fR4dq",
        "outputId": "013b26a7-d908-4a84-c127-b98176c869ba"
      },
      "execution_count": null,
      "outputs": [
        {
          "output_type": "stream",
          "name": "stdout",
          "text": [
            "float64 float64\n",
            "torch.float32 torch.float32\n"
          ]
        },
        {
          "output_type": "execute_result",
          "data": {
            "text/plain": [
              "(94, 24, 94, 24)"
            ]
          },
          "metadata": {},
          "execution_count": 39
        }
      ]
    },
    {
      "cell_type": "markdown",
      "source": [
        "## Build a simple NN model.\n",
        "\n",
        "Here we build a simple NN model with 3 fully-connected layers (torch.nn.linear). You can find most useful layers in torch.nn module. [Documentation](https://pytorch.org/docs/stable/nn.html)"
      ],
      "metadata": {
        "id": "XPIG8MYUhtHR"
      }
    },
    {
      "cell_type": "code",
      "source": [
        "import torch\n",
        "from torch import nn\n",
        "\n",
        "# Here we create a new class for our model, whose parent class is torch.nn.Module. https://pytorch.org/docs/stable/generated/torch.nn.Module.html\n",
        "class MoonModelV0(nn.Module):\n",
        "    def __init__(self, in_features, out_features, hidden_units):\n",
        "        super().__init__()\n",
        "        # Create 3 linear layers\n",
        "        self.layer1 = nn.Linear(in_features=in_features,\n",
        "                                 out_features=hidden_units)\n",
        "        self.layer2 = nn.Linear(in_features=hidden_units,\n",
        "                                 out_features=hidden_units)\n",
        "        self.layer3 = nn.Linear(in_features=hidden_units,\n",
        "                                out_features=out_features)\n",
        "        # Create a ReLU activation function\n",
        "        self.relu = nn.ReLU()\n",
        "\n",
        "    def forward(self, x):\n",
        "        # Pass the data through the 3 layers with ReLU as activation function of\n",
        "        # each layer\n",
        "        return self.layer3(self.relu(self.layer2(self.relu(self.layer1(x)))))\n",
        "\n",
        "# Create an instance of the MoonModelV0 class\n",
        "model_0 = MoonModelV0(in_features=2,\n",
        "                      out_features=1,\n",
        "                      hidden_units=100).to(device)\n",
        "print(model_0)"
      ],
      "metadata": {
        "colab": {
          "base_uri": "https://localhost:8080/",
          "height": 193
        },
        "id": "hwtyvm34Ri6Q",
        "outputId": "ab94f0b3-86e3-40a5-d85f-4bf83bbe76c6"
      },
      "execution_count": null,
      "outputs": [
        {
          "output_type": "error",
          "ename": "NameError",
          "evalue": "name 'device' is not defined",
          "traceback": [
            "\u001b[0;31m---------------------------------------------------------------------------\u001b[0m",
            "\u001b[0;31mNameError\u001b[0m                                 Traceback (most recent call last)",
            "\u001b[0;32m<ipython-input-23-768b861fd55f>\u001b[0m in \u001b[0;36m<cell line: 24>\u001b[0;34m()\u001b[0m\n\u001b[1;32m     24\u001b[0m model_0 = MoonModelV0(in_features=2,\n\u001b[1;32m     25\u001b[0m                       \u001b[0mout_features\u001b[0m\u001b[0;34m=\u001b[0m\u001b[0;36m1\u001b[0m\u001b[0;34m,\u001b[0m\u001b[0;34m\u001b[0m\u001b[0;34m\u001b[0m\u001b[0m\n\u001b[0;32m---> 26\u001b[0;31m                       hidden_units=100).to(device)\n\u001b[0m\u001b[1;32m     27\u001b[0m \u001b[0mprint\u001b[0m\u001b[0;34m(\u001b[0m\u001b[0mmodel_0\u001b[0m\u001b[0;34m)\u001b[0m\u001b[0;34m\u001b[0m\u001b[0;34m\u001b[0m\u001b[0m\n",
            "\u001b[0;31mNameError\u001b[0m: name 'device' is not defined"
          ]
        }
      ]
    },
    {
      "cell_type": "markdown",
      "source": [
        "We can access all the trainable parameters of the model by using state_dict(). [Documentation](https://pytorch.org/tutorials/recipes/recipes/what_is_state_dict.html)"
      ],
      "metadata": {
        "id": "eVNO2p5xj7vD"
      }
    },
    {
      "cell_type": "code",
      "source": [
        "model_0.state_dict()"
      ],
      "metadata": {
        "colab": {
          "base_uri": "https://localhost:8080/"
        },
        "id": "cTH8574mWgRI",
        "outputId": "d460158b-2a4e-40b3-dbe8-d7a3b32c76f7"
      },
      "execution_count": null,
      "outputs": [
        {
          "output_type": "execute_result",
          "data": {
            "text/plain": [
              "OrderedDict([('layer1.weight',\n",
              "              tensor([[ 0.3998, -0.6815],\n",
              "                      [ 0.6343, -0.0420],\n",
              "                      [ 0.4860,  0.2127],\n",
              "                      [ 0.6555,  0.2752],\n",
              "                      [ 0.0721, -0.6551],\n",
              "                      [ 0.0497, -0.4003],\n",
              "                      [ 0.2006,  0.0502],\n",
              "                      [ 0.1975,  0.6157],\n",
              "                      [-0.0839,  0.5611],\n",
              "                      [-0.6503, -0.3570]])),\n",
              "             ('layer1.bias',\n",
              "              tensor([ 0.0639,  0.2464, -0.4941, -0.3404,  0.6975, -0.4343, -0.5224,  0.4830,\n",
              "                      -0.5750, -0.3825])),\n",
              "             ('layer2.weight',\n",
              "              tensor([[-0.0445,  0.0819, -0.2389, -0.0803, -0.0494,  0.0083,  0.1049, -0.0817,\n",
              "                       -0.2123, -0.0798],\n",
              "                      [-0.1233, -0.2821,  0.3123,  0.3049,  0.2509,  0.0937,  0.0125, -0.2017,\n",
              "                       -0.2539,  0.0563],\n",
              "                      [ 0.1896,  0.2450,  0.0978, -0.0620,  0.0213,  0.2075,  0.2658,  0.2552,\n",
              "                       -0.2499, -0.0337],\n",
              "                      [ 0.0187,  0.1718, -0.0869,  0.2281, -0.2686,  0.0815,  0.0961,  0.1439,\n",
              "                        0.2221, -0.0274],\n",
              "                      [ 0.1401,  0.2717, -0.0405, -0.1696,  0.0871,  0.2420,  0.2914, -0.3076,\n",
              "                       -0.2439, -0.0570],\n",
              "                      [ 0.0942,  0.2002,  0.0514, -0.1196, -0.0601, -0.2195,  0.0282, -0.1527,\n",
              "                        0.2372,  0.2326],\n",
              "                      [ 0.0627, -0.0624, -0.1691,  0.0800,  0.1708, -0.2309, -0.2712,  0.0585,\n",
              "                       -0.1654,  0.0498],\n",
              "                      [-0.2234, -0.3158,  0.3127, -0.2415,  0.2710,  0.2927, -0.2183,  0.0399,\n",
              "                       -0.1000,  0.3043],\n",
              "                      [-0.1911,  0.0199, -0.2618,  0.1514, -0.0478, -0.1049,  0.2373,  0.0765,\n",
              "                        0.0602, -0.0088],\n",
              "                      [-0.0486, -0.1864,  0.0875, -0.1727, -0.0767,  0.2944,  0.2508,  0.0612,\n",
              "                        0.0633, -0.1506]])),\n",
              "             ('layer2.bias',\n",
              "              tensor([-0.2690, -0.0535, -0.0628, -0.1564,  0.3109,  0.1504, -0.0837,  0.1124,\n",
              "                      -0.0114,  0.1037])),\n",
              "             ('layer3.weight',\n",
              "              tensor([[-0.0494,  0.2846, -0.0139, -0.1666,  0.1416, -0.1133,  0.0946,  0.0648,\n",
              "                        0.0741,  0.2363]])),\n",
              "             ('layer3.bias', tensor([0.0292]))])"
            ]
          },
          "metadata": {},
          "execution_count": 41
        }
      ]
    },
    {
      "cell_type": "markdown",
      "source": [
        "## Setup loss function and optimizer of the model.\n",
        "\n",
        "Since we are dealing with a binary classification problem, we use BCEWithLogitsLoss().\n",
        "\n",
        "We use the basic SGD function as the optimizer."
      ],
      "metadata": {
        "id": "rgLMgln9kl1U"
      }
    },
    {
      "cell_type": "code",
      "source": [
        "loss_fn = nn.BCEWithLogitsLoss() # sigmoid layer built-in\n",
        "\n",
        "# loss_fn = nn.BCELoss() # requires sigmoid layer\n",
        "optimizer = torch.optim.SGD(params=model_0.parameters(), # parameters of model to optimize\n",
        "                            lr=0.1, # learning rate\n",
        "                            weight_decay=1e-5) # regularization lambda"
      ],
      "metadata": {
        "id": "whSGw5qgVvxU"
      },
      "execution_count": null,
      "outputs": []
    },
    {
      "cell_type": "markdown",
      "source": [
        "## Create training and testing loop to fit the model to dataset."
      ],
      "metadata": {
        "id": "o-D4xrqQmJhf"
      }
    },
    {
      "cell_type": "code",
      "source": [
        "# What's coming out of our model?\n",
        "\n",
        "# logits (raw outputs of model)\n",
        "print(\"Logits:\")\n",
        "print(model_0(X_train.to(device)[:10]).squeeze())\n",
        "\n",
        "# Prediction probabilities\n",
        "print(\"Pred probs:\")\n",
        "print(torch.sigmoid(model_0(X_train.to(device)[:10]).squeeze()))\n",
        "\n",
        "# Prediction probabilities\n",
        "print(\"Pred labels:\")\n",
        "print(torch.round(torch.sigmoid(model_0(X_train.to(device)[:10]).squeeze())))"
      ],
      "metadata": {
        "colab": {
          "base_uri": "https://localhost:8080/"
        },
        "id": "AgnFdlamd2-D",
        "outputId": "8f9b74f9-5b45-43c7-f561-0aed44674ac2"
      },
      "execution_count": null,
      "outputs": [
        {
          "output_type": "stream",
          "name": "stdout",
          "text": [
            "Logits:\n",
            "tensor([0.0736, 0.0644, 0.0993, 0.0636, 0.1057, 0.1253, 0.0877, 0.0782, 0.0569,\n",
            "        0.0590], grad_fn=<SqueezeBackward0>)\n",
            "Pred probs:\n",
            "tensor([0.5184, 0.5161, 0.5248, 0.5159, 0.5264, 0.5313, 0.5219, 0.5195, 0.5142,\n",
            "        0.5147], grad_fn=<SigmoidBackward0>)\n",
            "Pred labels:\n",
            "tensor([1., 1., 1., 1., 1., 1., 1., 1., 1., 1.], grad_fn=<RoundBackward0>)\n"
          ]
        }
      ]
    },
    {
      "cell_type": "code",
      "source": [
        "# Let's calculate the accuracy\n",
        "!pip -q install torchmetrics # colab doesn't come with torchmetrics\n",
        "from torchmetrics import Accuracy\n",
        "acc_fn = Accuracy(task=\"multiclass\", num_classes=2).to(device) # send accuracy function to device"
      ],
      "metadata": {
        "id": "rUSDNHB4euoJ",
        "colab": {
          "base_uri": "https://localhost:8080/"
        },
        "outputId": "f5b2da1c-071c-4dee-b274-2254a88e794e"
      },
      "execution_count": null,
      "outputs": [
        {
          "output_type": "stream",
          "name": "stdout",
          "text": [
            "\u001b[2K     \u001b[90m━━━━━━━━━━━━━━━━━━━━━━━━━━━━━━━━━━━━━━━━\u001b[0m \u001b[32m868.8/868.8 kB\u001b[0m \u001b[31m7.2 MB/s\u001b[0m eta \u001b[36m0:00:00\u001b[0m\n",
            "\u001b[2K     \u001b[90m━━━━━━━━━━━━━━━━━━━━━━━━━━━━━━━━━━━━━━━━\u001b[0m \u001b[32m21.3/21.3 MB\u001b[0m \u001b[31m43.8 MB/s\u001b[0m eta \u001b[36m0:00:00\u001b[0m\n",
            "\u001b[?25h"
          ]
        }
      ]
    },
    {
      "cell_type": "code",
      "source": [
        "torch.manual_seed(1)\n",
        "\n",
        "epochs=4000\n",
        "\n",
        "# Send data to the device\n",
        "X_train, y_train = X_train.to(device), y_train.to(device)\n",
        "X_test, y_test = X_test.to(device), y_test.to(device)\n",
        "\n",
        "# Loop through the data\n",
        "for epoch in range(epochs):\n",
        "  ### Training\n",
        "  model_0.train()\n",
        "\n",
        "  # 1. Forward pass\n",
        "  y_logits = model_0(X_train).squeeze()\n",
        "  # print(y_logits[:5]) # model raw outputs are \"logits\"\n",
        "  y_pred_probs = torch.sigmoid(y_logits)\n",
        "  y_pred = torch.round(y_pred_probs)\n",
        "\n",
        "  # 2. Calculaute the loss\n",
        "  loss = loss_fn(y_logits, y_train) # loss = compare model raw outputs to desired model outputs\n",
        "  acc = acc_fn(y_pred, y_train.int()) # the accuracy function needs to compare pred labels (not logits) with actual labels\n",
        "\n",
        "  # 3. Zero the gradients\n",
        "  optimizer.zero_grad()\n",
        "\n",
        "  # 4. Loss backward (perform backpropagation) - https://brilliant.org/wiki/backpropagation/#:~:text=Backpropagation%2C%20short%20for%20%22backward%20propagation,to%20the%20neural%20network's%20weights.\n",
        "  loss.backward()\n",
        "\n",
        "  # 5. Step the optimizer (gradient descent) - https://towardsdatascience.com/gradient-descent-algorithm-a-deep-dive-cf04e8115f21#:~:text=Gradient%20descent%20(GD)%20is%20an,e.g.%20in%20a%20linear%20regression)\n",
        "  optimizer.step()\n",
        "\n",
        "  ### Testing\n",
        "  model_0.eval()\n",
        "  with torch.inference_mode():\n",
        "    # 1. Forward pass\n",
        "    test_logits = model_0(X_test).squeeze()\n",
        "    test_pred = torch.round(torch.sigmoid(test_logits))\n",
        "    # 2. Caculate the loss/acc\n",
        "    test_loss = loss_fn(test_logits, y_test)\n",
        "    test_acc = acc_fn(test_pred, y_test.int())\n",
        "\n",
        "  # Print out what's happening\n",
        "  if epoch % 100 == 0:\n",
        "    print(f\"Epoch: {epoch} | Loss: {loss:.2f} Acc: {acc:.2f} | Test loss: {test_loss:.2f} Test acc: {test_acc:.2f}\")"
      ],
      "metadata": {
        "colab": {
          "base_uri": "https://localhost:8080/"
        },
        "id": "SHBY3h7XXnxt",
        "outputId": "78055a54-3e9b-4bbc-a2bf-4867566121d4"
      },
      "execution_count": null,
      "outputs": [
        {
          "output_type": "stream",
          "name": "stdout",
          "text": [
            "Epoch: 0 | Loss: 0.70 Acc: 0.46 | Test loss: 0.68 Test acc: 0.71\n",
            "Epoch: 100 | Loss: 0.69 Acc: 0.54 | Test loss: 0.73 Test acc: 0.29\n",
            "Epoch: 200 | Loss: 0.69 Acc: 0.54 | Test loss: 0.73 Test acc: 0.29\n",
            "Epoch: 300 | Loss: 0.69 Acc: 0.54 | Test loss: 0.73 Test acc: 0.29\n",
            "Epoch: 400 | Loss: 0.68 Acc: 0.56 | Test loss: 0.72 Test acc: 0.33\n",
            "Epoch: 500 | Loss: 0.68 Acc: 0.64 | Test loss: 0.72 Test acc: 0.46\n",
            "Epoch: 600 | Loss: 0.67 Acc: 0.64 | Test loss: 0.71 Test acc: 0.46\n",
            "Epoch: 700 | Loss: 0.65 Acc: 0.63 | Test loss: 0.70 Test acc: 0.50\n",
            "Epoch: 800 | Loss: 0.64 Acc: 0.66 | Test loss: 0.69 Test acc: 0.50\n",
            "Epoch: 900 | Loss: 0.61 Acc: 0.68 | Test loss: 0.68 Test acc: 0.54\n",
            "Epoch: 1000 | Loss: 0.59 Acc: 0.70 | Test loss: 0.68 Test acc: 0.54\n",
            "Epoch: 1100 | Loss: 0.56 Acc: 0.70 | Test loss: 0.68 Test acc: 0.58\n",
            "Epoch: 1200 | Loss: 0.54 Acc: 0.72 | Test loss: 0.67 Test acc: 0.58\n",
            "Epoch: 1300 | Loss: 0.50 Acc: 0.78 | Test loss: 0.63 Test acc: 0.62\n",
            "Epoch: 1400 | Loss: 0.47 Acc: 0.74 | Test loss: 0.56 Test acc: 0.75\n",
            "Epoch: 1500 | Loss: 0.43 Acc: 0.80 | Test loss: 0.51 Test acc: 0.79\n",
            "Epoch: 1600 | Loss: 0.41 Acc: 0.80 | Test loss: 0.47 Test acc: 0.79\n",
            "Epoch: 1700 | Loss: 0.39 Acc: 0.81 | Test loss: 0.45 Test acc: 0.79\n",
            "Epoch: 1800 | Loss: 0.43 Acc: 0.82 | Test loss: 0.52 Test acc: 0.75\n",
            "Epoch: 1900 | Loss: 0.41 Acc: 0.81 | Test loss: 0.50 Test acc: 0.75\n",
            "Epoch: 2000 | Loss: 0.41 Acc: 0.82 | Test loss: 0.49 Test acc: 0.75\n",
            "Epoch: 2100 | Loss: 0.40 Acc: 0.83 | Test loss: 0.47 Test acc: 0.79\n",
            "Epoch: 2200 | Loss: 0.39 Acc: 0.84 | Test loss: 0.45 Test acc: 0.79\n",
            "Epoch: 2300 | Loss: 0.38 Acc: 0.84 | Test loss: 0.43 Test acc: 0.79\n",
            "Epoch: 2400 | Loss: 0.37 Acc: 0.84 | Test loss: 0.42 Test acc: 0.79\n",
            "Epoch: 2500 | Loss: 0.37 Acc: 0.84 | Test loss: 0.40 Test acc: 0.79\n",
            "Epoch: 2600 | Loss: 0.36 Acc: 0.85 | Test loss: 0.39 Test acc: 0.79\n",
            "Epoch: 2700 | Loss: 0.36 Acc: 0.84 | Test loss: 0.38 Test acc: 0.79\n",
            "Epoch: 2800 | Loss: 0.35 Acc: 0.84 | Test loss: 0.38 Test acc: 0.79\n",
            "Epoch: 2900 | Loss: 0.35 Acc: 0.84 | Test loss: 0.37 Test acc: 0.79\n",
            "Epoch: 3000 | Loss: 0.35 Acc: 0.84 | Test loss: 0.37 Test acc: 0.79\n",
            "Epoch: 3100 | Loss: 0.35 Acc: 0.84 | Test loss: 0.36 Test acc: 0.79\n",
            "Epoch: 3200 | Loss: 0.35 Acc: 0.84 | Test loss: 0.36 Test acc: 0.79\n",
            "Epoch: 3300 | Loss: 0.35 Acc: 0.84 | Test loss: 0.36 Test acc: 0.79\n",
            "Epoch: 3400 | Loss: 0.34 Acc: 0.84 | Test loss: 0.35 Test acc: 0.79\n",
            "Epoch: 3500 | Loss: 0.34 Acc: 0.84 | Test loss: 0.35 Test acc: 0.83\n",
            "Epoch: 3600 | Loss: 0.34 Acc: 0.84 | Test loss: 0.34 Test acc: 0.83\n",
            "Epoch: 3700 | Loss: 0.34 Acc: 0.84 | Test loss: 0.34 Test acc: 0.83\n",
            "Epoch: 3800 | Loss: 0.33 Acc: 0.83 | Test loss: 0.34 Test acc: 0.83\n",
            "Epoch: 3900 | Loss: 0.33 Acc: 0.84 | Test loss: 0.34 Test acc: 0.83\n"
          ]
        }
      ]
    },
    {
      "cell_type": "code",
      "source": [
        "# convert tensor to numpy\n",
        "X_train = X_train.cpu().numpy()\n",
        "X_test = X_test.cpu().numpy()\n",
        "y_train = y_train.cpu().numpy()\n",
        "y_test = y_test.cpu().numpy()\n",
        "\n",
        "y_pred = y_pred.squeeze().detach().cpu().numpy()\n",
        "test_pred = test_pred.squeeze().detach().cpu().numpy()\n",
        "\n",
        "# Visualize the ground truth on a plot\n",
        "plt.figure(figsize=(12, 12))\n",
        "# compare result\n",
        "plt.subplot(2, 2, 1);\n",
        "plt.plot(X_train[y_train==1,0],X_train[y_train==1,1],'bo',label = 'Positive')\n",
        "plt.plot(X_train[y_train==0,0],X_train[y_train==0,1],'rx',label = 'Negative')\n",
        "plt.legend(loc=\"upper right\")\n",
        "plt.ylabel('x1')\n",
        "plt.xlabel('x2')\n",
        "plt.title('Ground truth')\n",
        "\n",
        "plt.subplot(2, 2, 2);\n",
        "plt.plot(X_train[y_pred==1,0],X_train[y_pred==1,1],'bo',label = 'Positive')\n",
        "plt.plot(X_train[y_pred==0,0],X_train[y_pred==0,1],'rx',label = 'Negative')\n",
        "plt.legend(loc=\"upper right\")\n",
        "plt.ylabel('x1')\n",
        "plt.xlabel('x2')\n",
        "plt.title('Prediction')\n",
        "\n",
        "plt.subplot(2, 2, 3);\n",
        "plt.plot(X_test[y_test==1,0],X_test[y_test==1,1],'bo',label = 'Positive')\n",
        "plt.plot(X_test[y_test==0,0],X_test[y_test==0,1],'rx',label = 'Negative')\n",
        "plt.legend(loc=\"upper right\")\n",
        "plt.ylabel('x1')\n",
        "plt.xlabel('x2')\n",
        "plt.title('Ground truth')\n",
        "\n",
        "plt.subplot(2, 2, 4);\n",
        "plt.plot(X_test[test_pred==1,0],X_test[test_pred==1,1],'bo',label = 'Positive')\n",
        "plt.plot(X_test[test_pred==0,0],X_test[test_pred==0,1],'rx',label = 'Negative')\n",
        "plt.legend(loc=\"upper right\")\n",
        "plt.ylabel('x1')\n",
        "plt.xlabel('x2')\n",
        "plt.title('Prediction')\n",
        "\n",
        "plt.show()\n",
        "\n",
        "# Compare with predicted result"
      ],
      "metadata": {
        "colab": {
          "base_uri": "https://localhost:8080/",
          "height": 1000
        },
        "id": "dzp7ItpgrhSl",
        "outputId": "e749f6a1-d3aa-4eef-c8f5-65939747e65c"
      },
      "execution_count": null,
      "outputs": [
        {
          "output_type": "display_data",
          "data": {
            "text/plain": [
              "<Figure size 1200x1200 with 4 Axes>"
            ],
            "image/png": "[encoded data removed]"
          },
          "metadata": {}
        }
      ]
    }
  ]
}